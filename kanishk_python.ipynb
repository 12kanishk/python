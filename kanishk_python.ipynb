{
 "cells": [
  {
   "cell_type": "code",
   "execution_count": 1,
   "id": "87aed6eb",
   "metadata": {},
   "outputs": [
    {
     "name": "stdout",
     "output_type": "stream",
     "text": [
      "hello World\n"
     ]
    }
   ],
   "source": [
    "print(\"hello World\")"
   ]
  },
  {
   "cell_type": "markdown",
   "id": "dfa4b1b6",
   "metadata": {},
   "source": [
    "### kkakajajaaajaj"
   ]
  },
  {
   "cell_type": "markdown",
   "id": "a57a12eb",
   "metadata": {},
   "source": [
    "print(hello world)"
   ]
  },
  {
   "cell_type": "code",
   "execution_count": 5,
   "id": "74a71508",
   "metadata": {},
   "outputs": [
    {
     "name": "stdout",
     "output_type": "stream",
     "text": [
      "10.7\n"
     ]
    }
   ],
   "source": [
    "print(10.7)"
   ]
  },
  {
   "cell_type": "code",
   "execution_count": 7,
   "id": "fee6ef62",
   "metadata": {},
   "outputs": [],
   "source": []
  },
  {
   "cell_type": "markdown",
   "id": "aa6b5870",
   "metadata": {},
   "source": [
    "### kanijkkkk"
   ]
  },
  {
   "cell_type": "markdown",
   "id": "25c0a46f",
   "metadata": {},
   "source": [
    "#### kajnkk"
   ]
  },
  {
   "cell_type": "markdown",
   "id": "765ec56e",
   "metadata": {},
   "source": [
    "##### kanihjkk"
   ]
  },
  {
   "cell_type": "markdown",
   "id": "bc90bf4b",
   "metadata": {},
   "source": [
    "## kanishk"
   ]
  },
  {
   "cell_type": "markdown",
   "id": "96cff942",
   "metadata": {},
   "source": [
    "# kanishk"
   ]
  },
  {
   "cell_type": "markdown",
   "id": "23c83c3e",
   "metadata": {},
   "source": [
    "firstname=\"kanishk\""
   ]
  },
  {
   "cell_type": "code",
   "execution_count": 11,
   "id": "aa095bea",
   "metadata": {},
   "outputs": [
    {
     "data": {
      "text/plain": [
       "'kanishk'"
      ]
     },
     "execution_count": 11,
     "metadata": {},
     "output_type": "execute_result"
    }
   ],
   "source": [
    "firstname=\"kanishk\"\n",
    "firstname"
   ]
  },
  {
   "cell_type": "code",
   "execution_count": 12,
   "id": "c7db7e84",
   "metadata": {},
   "outputs": [
    {
     "data": {
      "text/plain": [
       "'navami'"
      ]
     },
     "execution_count": 12,
     "metadata": {},
     "output_type": "execute_result"
    }
   ],
   "source": [
    "name=\"navami\"\n",
    "name"
   ]
  },
  {
   "cell_type": "code",
   "execution_count": 13,
   "id": "ab4f38d2",
   "metadata": {},
   "outputs": [
    {
     "ename": "SyntaxError",
     "evalue": "invalid decimal literal (2059330343.py, line 1)",
     "output_type": "error",
     "traceback": [
      "\u001b[1;36m  Cell \u001b[1;32mIn[13], line 1\u001b[1;36m\u001b[0m\n\u001b[1;33m    1name=\"kanishk\"\u001b[0m\n\u001b[1;37m    ^\u001b[0m\n\u001b[1;31mSyntaxError\u001b[0m\u001b[1;31m:\u001b[0m invalid decimal literal\n"
     ]
    }
   ],
   "source": [
    "1name=\"kanishk\"\n",
    "1name"
   ]
  },
  {
   "cell_type": "code",
   "execution_count": 15,
   "id": "7e950852",
   "metadata": {},
   "outputs": [
    {
     "data": {
      "text/plain": [
       "'kanishk'"
      ]
     },
     "execution_count": 15,
     "metadata": {},
     "output_type": "execute_result"
    }
   ],
   "source": [
    "name1=\"kanishk\"\n",
    "name1\n"
   ]
  },
  {
   "cell_type": "code",
   "execution_count": 16,
   "id": "9b1c9f98",
   "metadata": {},
   "outputs": [
    {
     "data": {
      "text/plain": [
       "'kanishk'"
      ]
     },
     "execution_count": 16,
     "metadata": {},
     "output_type": "execute_result"
    }
   ],
   "source": [
    "nam1e=\"kanishk\"\n",
    "nam1e"
   ]
  },
  {
   "cell_type": "code",
   "execution_count": 17,
   "id": "109246ad",
   "metadata": {},
   "outputs": [
    {
     "data": {
      "text/plain": [
       "'kanishk'"
      ]
     },
     "execution_count": 17,
     "metadata": {},
     "output_type": "execute_result"
    }
   ],
   "source": [
    "_name=\"kanishk\"\n",
    "_name"
   ]
  },
  {
   "cell_type": "code",
   "execution_count": 18,
   "id": "b7f2c341",
   "metadata": {},
   "outputs": [
    {
     "ename": "SyntaxError",
     "evalue": "cannot assign to expression here. Maybe you meant '==' instead of '='? (2038901819.py, line 1)",
     "output_type": "error",
     "traceback": [
      "\u001b[1;36m  Cell \u001b[1;32mIn[18], line 1\u001b[1;36m\u001b[0m\n\u001b[1;33m    +name=\"kanishk\"\u001b[0m\n\u001b[1;37m    ^\u001b[0m\n\u001b[1;31mSyntaxError\u001b[0m\u001b[1;31m:\u001b[0m cannot assign to expression here. Maybe you meant '==' instead of '='?\n"
     ]
    }
   ],
   "source": [
    "+name=\"kanishk\"\n",
    "+name"
   ]
  },
  {
   "cell_type": "code",
   "execution_count": 19,
   "id": "93b52afd",
   "metadata": {},
   "outputs": [
    {
     "data": {
      "text/plain": [
       "'kanishk'"
      ]
     },
     "execution_count": 19,
     "metadata": {},
     "output_type": "execute_result"
    }
   ],
   "source": [
    "first_name=\"kanishk\"\n",
    "first_name"
   ]
  },
  {
   "cell_type": "code",
   "execution_count": 20,
   "id": "1c5ecf35",
   "metadata": {},
   "outputs": [
    {
     "data": {
      "text/plain": [
       "int"
      ]
     },
     "execution_count": 20,
     "metadata": {},
     "output_type": "execute_result"
    }
   ],
   "source": [
    "x=10\n",
    "type(x)"
   ]
  },
  {
   "cell_type": "code",
   "execution_count": 22,
   "id": "ba1608cf",
   "metadata": {},
   "outputs": [
    {
     "data": {
      "text/plain": [
       "bool"
      ]
     },
     "execution_count": 22,
     "metadata": {},
     "output_type": "execute_result"
    }
   ],
   "source": [
    "z=True\n",
    "type(z)"
   ]
  },
  {
   "cell_type": "code",
   "execution_count": 28,
   "id": "c4e2ffb9",
   "metadata": {},
   "outputs": [
    {
     "data": {
      "text/plain": [
       "str"
      ]
     },
     "execution_count": 28,
     "metadata": {},
     "output_type": "execute_result"
    }
   ],
   "source": [
    "z=\"True\"\n",
    "type(z)"
   ]
  },
  {
   "cell_type": "code",
   "execution_count": 24,
   "id": "38d0a42b",
   "metadata": {},
   "outputs": [
    {
     "ename": "NameError",
     "evalue": "name 'true' is not defined",
     "output_type": "error",
     "traceback": [
      "\u001b[1;31m---------------------------------------------------------------------------\u001b[0m",
      "\u001b[1;31mNameError\u001b[0m                                 Traceback (most recent call last)",
      "Cell \u001b[1;32mIn[24], line 1\u001b[0m\n\u001b[1;32m----> 1\u001b[0m z\u001b[38;5;241m=\u001b[39m\u001b[43mtrue\u001b[49m\n\u001b[0;32m      2\u001b[0m \u001b[38;5;28mtype\u001b[39m(z)\n",
      "\u001b[1;31mNameError\u001b[0m: name 'true' is not defined"
     ]
    }
   ],
   "source": [
    "z=true\n",
    "type(z)"
   ]
  },
  {
   "cell_type": "code",
   "execution_count": 25,
   "id": "e9fdbbf4",
   "metadata": {},
   "outputs": [
    {
     "data": {
      "text/plain": [
       "10"
      ]
     },
     "execution_count": 25,
     "metadata": {},
     "output_type": "execute_result"
    }
   ],
   "source": [
    "x=10\n",
    "type(x)\n",
    "x"
   ]
  },
  {
   "cell_type": "code",
   "execution_count": 26,
   "id": "f1ffce1e",
   "metadata": {},
   "outputs": [
    {
     "data": {
      "text/plain": [
       "(10, int)"
      ]
     },
     "execution_count": 26,
     "metadata": {},
     "output_type": "execute_result"
    }
   ],
   "source": [
    "x=10\n",
    "type(x)\n",
    "x,type(x)"
   ]
  },
  {
   "cell_type": "code",
   "execution_count": 27,
   "id": "f9f9d141",
   "metadata": {},
   "outputs": [
    {
     "data": {
      "text/plain": [
       "10"
      ]
     },
     "execution_count": 27,
     "metadata": {},
     "output_type": "execute_result"
    }
   ],
   "source": [
    "x,y=10,20\n",
    "y\n",
    "x"
   ]
  },
  {
   "cell_type": "code",
   "execution_count": 29,
   "id": "a428a3fe",
   "metadata": {},
   "outputs": [
    {
     "data": {
      "text/plain": [
       "(10, 20)"
      ]
     },
     "execution_count": 29,
     "metadata": {},
     "output_type": "execute_result"
    }
   ],
   "source": [
    "x,y=10,20\n",
    "x,y"
   ]
  },
  {
   "cell_type": "code",
   "execution_count": null,
   "id": "41f564fb",
   "metadata": {},
   "outputs": [],
   "source": [
    "###print your name\n",
    "###Data type of ur name\n",
    "###print your age\n",
    "###Data type"
   ]
  }
 ],
 "metadata": {
  "kernelspec": {
   "display_name": "Python 3 (ipykernel)",
   "language": "python",
   "name": "python3"
  },
  "language_info": {
   "codemirror_mode": {
    "name": "ipython",
    "version": 3
   },
   "file_extension": ".py",
   "mimetype": "text/x-python",
   "name": "python",
   "nbconvert_exporter": "python",
   "pygments_lexer": "ipython3",
   "version": "3.10.9"
  }
 },
 "nbformat": 4,
 "nbformat_minor": 5
}
